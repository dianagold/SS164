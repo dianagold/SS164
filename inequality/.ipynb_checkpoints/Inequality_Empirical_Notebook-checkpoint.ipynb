{
 "cells": [
  {
   "cell_type": "markdown",
   "metadata": {},
   "source": [
    "# SS164 Inequality Assignment"
   ]
  },
  {
   "cell_type": "markdown",
   "metadata": {},
   "source": [
    "<font color='maroon'>Disclaimer: the assignment will be graded solely on **demonstrated understanding of the concepts** through the discussion and interpretation of the results. Code and analytical work will not be evaluated, nor should be submitted.</font> \n",
    "\n",
    "In this notebook, all you need to do is to change the chosen country below (from this [list of options](https://github.com/dianagold/SS164/blob/master/inequality/Countries_for_Inequality.csv)), and run all cells. If you have trouble running this code, alternatively, you can do the work manually. A detailed step-by-step is provided in the assignment and includes downloading the [zipfile from World Inequality Database](https://wid.world/bulk_download/wid_all_data.zip), extrating the csv of your country, filtering and sorting with Excel and pasting in [this interactive website](http://shlegeris.com/gini)."
   ]
  },
  {
   "cell_type": "code",
   "execution_count": 1,
   "metadata": {},
   "outputs": [],
   "source": [
    "#Change here for the country you chose (must be spelled exactly the same as in the list of options)\n",
    "chosencountry = 'Brazil'"
   ]
  },
  {
   "cell_type": "markdown",
   "metadata": {
    "colab_type": "text",
    "id": "cy5MIA4safU-"
   },
   "source": [
    "## I. Setup\n",
    "Import libraries"
   ]
  },
  {
   "cell_type": "code",
   "execution_count": 2,
   "metadata": {
    "colab": {},
    "colab_type": "code",
    "id": "6BRjzlwaZ4aL"
   },
   "outputs": [],
   "source": [
    "import os\n",
    "import numpy as np\n",
    "import pandas as pd\n",
    "import wbgapi as wb\n",
    "import urllib.request\n",
    "from zipfile import ZipFile\n",
    "from matplotlib import pyplot as plt\n",
    "%matplotlib inline"
   ]
  },
  {
   "cell_type": "markdown",
   "metadata": {},
   "source": [
    "Find chosen country in table with the list of options to store corresponding codes and year"
   ]
  },
  {
   "cell_type": "code",
   "execution_count": 3,
   "metadata": {},
   "outputs": [
    {
     "data": {
      "text/html": [
       "<div>\n",
       "<style scoped>\n",
       "    .dataframe tbody tr th:only-of-type {\n",
       "        vertical-align: middle;\n",
       "    }\n",
       "\n",
       "    .dataframe tbody tr th {\n",
       "        vertical-align: top;\n",
       "    }\n",
       "\n",
       "    .dataframe thead th {\n",
       "        text-align: right;\n",
       "    }\n",
       "</style>\n",
       "<table border=\"1\" class=\"dataframe\">\n",
       "  <thead>\n",
       "    <tr style=\"text-align: right;\">\n",
       "      <th></th>\n",
       "      <th>Country</th>\n",
       "      <th>WID_Code</th>\n",
       "      <th>WBG_Code</th>\n",
       "      <th>Latest Year</th>\n",
       "      <th>Note</th>\n",
       "    </tr>\n",
       "  </thead>\n",
       "  <tbody>\n",
       "    <tr>\n",
       "      <td>8</td>\n",
       "      <td>Brazil</td>\n",
       "      <td>BR</td>\n",
       "      <td>BRA</td>\n",
       "      <td>2015</td>\n",
       "      <td>not allowed</td>\n",
       "    </tr>\n",
       "  </tbody>\n",
       "</table>\n",
       "</div>"
      ],
      "text/plain": [
       "  Country WID_Code WBG_Code  Latest Year         Note\n",
       "8  Brazil       BR      BRA         2015  not allowed"
      ]
     },
     "execution_count": 3,
     "metadata": {},
     "output_type": "execute_result"
    }
   ],
   "source": [
    "countrytable = pd.read_csv('Countries_for_Inequality.csv')\n",
    "chosenline = countrytable[countrytable['Country']==chosencountry]\n",
    "widcode  = chosenline['WID_Code'].values[0]\n",
    "wbgcode  = chosenline['WBG_Code'].values[0]\n",
    "lastyear = chosenline['Latest Year'].values[0]\n",
    "chosenline"
   ]
  },
  {
   "cell_type": "markdown",
   "metadata": {
    "colab_type": "text",
    "id": "Oj7lCJhAainW"
   },
   "source": [
    "Function to calculate the Gini index based on sorted array"
   ]
  },
  {
   "cell_type": "code",
   "execution_count": 4,
   "metadata": {
    "colab": {},
    "colab_type": "code",
    "id": "j6JrUpPaaCO7"
   },
   "outputs": [],
   "source": [
    "def gini(arr):\n",
    "    #sort array\n",
    "    sorted_arr = arr.copy()\n",
    "    sorted_arr.sort()\n",
    "    n = arr.size\n",
    "    coef_ = 2. / n\n",
    "    const_ = (n + 1.) / n\n",
    "    weighted_sum = sum([(i+1)*yi for i, yi in enumerate(sorted_arr)])\n",
    "    return coef_*weighted_sum/(sorted_arr.sum()) - const_"
   ]
  },
  {
   "cell_type": "markdown",
   "metadata": {
    "colab_type": "text",
    "id": "dOekcBdgarn6"
   },
   "source": [
    "Function to plot the Lorenz Curve from grouped data"
   ]
  },
  {
   "cell_type": "code",
   "execution_count": 5,
   "metadata": {
    "colab": {},
    "colab_type": "code",
    "id": "he625gWXaQtB"
   },
   "outputs": [],
   "source": [
    "def lorenz_curve(X):\n",
    "    #Process data for Lorenz Curve\n",
    "    X_lorenz = X.cumsum() / X.sum()\n",
    "    X_lorenz = np.insert(X_lorenz, 0, 0) \n",
    "    X_lorenz[0], X_lorenz[-1]\n",
    "    fig, ax = plt.subplots(figsize=[8,8])\n",
    "\n",
    "    ##Plot of Lorenz curve\n",
    "    ax.plot(np.arange(X_lorenz.size)/(X_lorenz.size-1), X_lorenz,marker='.',markevery=2, color='black')\n",
    "\n",
    "    ## shade area\n",
    "    ax.fill(np.arange(X_lorenz.size)/(X_lorenz.size-1), X_lorenz,color='grey')\n",
    "    ax.fill_between(np.arange(X_lorenz.size)/(X_lorenz.size-1), X_lorenz,color='pink')\n",
    "\n",
    "    ## line plot of equality\n",
    "    ax.plot([0,1], [0,1], color='k')\n",
    "\n",
    "    #plot gini index as a legend\n",
    "    ax.text(0.1,0.9,'Gini Index = %f' %(gini(X)))\n",
    "\n",
    "    #labels for plot\n",
    "    ax.set_xlabel('Population')\n",
    "    ax.set_ylabel('Cumulative Income share')\n",
    "\n",
    "    ax.set_yticklabels([])\n",
    "    ax.set_xticklabels([])\n",
    "    plt.show()"
   ]
  },
  {
   "cell_type": "markdown",
   "metadata": {
    "colab_type": "text",
    "id": "6K41s7_H6kYx"
   },
   "source": [
    "Function to plot a histogram of income distribution"
   ]
  },
  {
   "cell_type": "code",
   "execution_count": 6,
   "metadata": {
    "colab": {},
    "colab_type": "code",
    "id": "109HyIaX6jsW"
   },
   "outputs": [],
   "source": [
    "def inequality_plot(data):\n",
    "  fig, ax = plt.subplots(figsize=[8,8])\n",
    "  plt.bar([x for x in range(len(data))],data,width=1,color='grey')\n",
    "  #labels for plot\n",
    "  ax.set_xlabel('Percentage of population')\n",
    "  ax.set_ylabel('Cumulative Income share')\n",
    "  ax.set_xticks([])\n",
    "  ax.set_xticklabels([])\n",
    "  plt.show()"
   ]
  },
  {
   "cell_type": "markdown",
   "metadata": {
    "colab_type": "text",
    "id": "mkZqOd7-MPCF"
   },
   "source": [
    "Function that plot graphs for chosen Data, Year, and Variable\n"
   ]
  },
  {
   "cell_type": "code",
   "execution_count": 7,
   "metadata": {
    "colab": {},
    "colab_type": "code",
    "id": "Ubjx-S_gMnfp"
   },
   "outputs": [],
   "source": [
    "def inequality(country,variable,year,division='percentile'):\n",
    "  \"\"\"\n",
    "  country  = Country code for i.e BR is Brazil. Data is extracted for the respective country\n",
    "  variable = One of the variables from  tptinc992j, tfiinc992j, tdiinc992j or tcainc992j. Income inequality data on the variable is extracted\n",
    "  year     = Year for which you extract the income inequality data for\n",
    "  division = Whether you want data in percentiles or deciles. The default is percentiles so if you want deciles, just pass the word 'decile' to the function\n",
    "  \"\"\"\n",
    "  \n",
    "  #Read csv file\n",
    "  data = pd.read_csv('WID_data_'+country+'.csv', delimiter=';')\n",
    "\n",
    "  #If you want data in percentiles\n",
    "  if division == 'percentile' or division == 'percentiles':\n",
    "    percentiles = []\n",
    "    for i in range(100):\n",
    "      percentiles.append('p'+str(i)+'p'+str(i+1))\n",
    "    \n",
    "    #Filter data according to student defined constraints\n",
    "    inequality_data = []\n",
    "    temp = data.loc[(data['variable'] == variable) & (data['year'] == year)]\n",
    "    for i in percentiles:\n",
    "      inequality_data.append(temp.loc[temp['percentile']==i]['value'].values[0])\n",
    "    \n",
    "    return lorenz_curve(np.array(inequality_data)), inequality_plot(np.array(inequality_data))\n",
    "\n",
    "  elif division == 'decile' or division == 'deciles' :\n",
    "    deciles = []\n",
    "    for i in range(0,100,10):\n",
    "      deciles.append('p'+str(i)+'p'+str(i+10))\n",
    "    \n",
    "    #Filter data according to student defined constraints\n",
    "    inequality_data = []\n",
    "    temp = data.loc[(data['variable'] == variable) & (data['year'] == year)]\n",
    "    for i in deciles:\n",
    "      inequality_data.append(temp.loc[temp['percentile']==i]['value'].values[0])\n",
    "    \n",
    "    return lorenz_curve(np.array(inequality_data)), inequality_plot(np.array(inequality_data))\n"
   ]
  },
  {
   "cell_type": "markdown",
   "metadata": {
    "colab_type": "text",
    "id": "73UU72rza3jF"
   },
   "source": [
    "Download data file from the [World Inequality Database (WID)](https://wid.world/data/), which is ~100Mb"
   ]
  },
  {
   "cell_type": "code",
   "execution_count": 8,
   "metadata": {
    "colab": {
     "base_uri": "https://localhost:8080/",
     "height": 204
    },
    "colab_type": "code",
    "id": "jCUkiYprgrsP",
    "outputId": "fcd62534-55a4-428a-da93-91853d874c0a"
   },
   "outputs": [
    {
     "name": "stdout",
     "output_type": "stream",
     "text": [
      "File already downloaded\n"
     ]
    }
   ],
   "source": [
    "if os.path.isfile('./wid_all_data.zip') :\n",
    "    print('File already downloaded')\n",
    "    \n",
    "else :\n",
    "    import zipfile\n",
    "\n",
    "    url = 'https://wid.world/bulk_download/wid_all_data.zip'\n",
    "    filename = 'wid_all_data.zip'\n",
    "\n",
    "    urllib.request.urlretrieve(url, filename)"
   ]
  },
  {
   "cell_type": "markdown",
   "metadata": {},
   "source": [
    "Extract the contents of the chosen country and the whole word"
   ]
  },
  {
   "cell_type": "code",
   "execution_count": 9,
   "metadata": {},
   "outputs": [],
   "source": [
    "with ZipFile('wid_all_data.zip', 'r') as zip_ref:\n",
    "    for filename in ['WID_data_'+widcode+'.csv', 'WID_data_WO.csv']:\n",
    "         zip_ref.extract(filename)"
   ]
  },
  {
   "cell_type": "markdown",
   "metadata": {},
   "source": [
    "## II. Check four values for the Gini"
   ]
  },
  {
   "cell_type": "code",
   "execution_count": 10,
   "metadata": {
    "colab": {
     "base_uri": "https://localhost:8080/",
     "height": 967
    },
    "colab_type": "code",
    "id": "zPWjpMeXKHjs",
    "outputId": "019f8272-dc59-41fc-a431-6f0b57258f14"
   },
   "outputs": [
    {
     "data": {
      "image/png": "[encoded data removed]",
      "text/plain": [
       "<Figure size 576x576 with 1 Axes>"
      ]
     },
     "metadata": {
      "needs_background": "light"
     },
     "output_type": "display_data"
    },
    {
     "data": {
      "image/png": "[encoded data removed]",
      "text/plain": [
       "<Figure size 576x576 with 1 Axes>"
      ]
     },
     "metadata": {
      "needs_background": "light"
     },
     "output_type": "display_data"
    },
    {
     "data": {
      "text/plain": [
       "(None, None)"
      ]
     },
     "execution_count": 10,
     "metadata": {},
     "output_type": "execute_result"
    }
   ],
   "source": [
    "#Calculate Gini from WID income deciles\n",
    "inequality(widcode,'tptinc992j',lastyear,'deciles')"
   ]
  },
  {
   "cell_type": "code",
   "execution_count": 11,
   "metadata": {
    "colab": {
     "base_uri": "https://localhost:8080/",
     "height": 967
    },
    "colab_type": "code",
    "id": "WhE9KNmoPqM5",
    "outputId": "ade0fadb-7535-45ef-f78e-2dca6227a11b"
   },
   "outputs": [
    {
     "data": {
      "image/png": "[encoded data removed]",
      "text/plain": [
       "<Figure size 576x576 with 1 Axes>"
      ]
     },
     "metadata": {
      "needs_background": "light"
     },
     "output_type": "display_data"
    },
    {
     "data": {
      "image/png": "[encoded data removed]",
      "text/plain": [
       "<Figure size 576x576 with 1 Axes>"
      ]
     },
     "metadata": {
      "needs_background": "light"
     },
     "output_type": "display_data"
    },
    {
     "data": {
      "text/plain": [
       "(None, None)"
      ]
     },
     "execution_count": 11,
     "metadata": {},
     "output_type": "execute_result"
    }
   ],
   "source": [
    "#Calculate Gini from WID income percentiles\n",
    "inequality(widcode,'tptinc992j',lastyear)"
   ]
  },
  {
   "cell_type": "markdown",
   "metadata": {},
   "source": [
    "Retrieve the Gini stored in the WID dataset"
   ]
  },
  {
   "cell_type": "code",
   "execution_count": 12,
   "metadata": {},
   "outputs": [
    {
     "data": {
      "text/html": [
       "<div>\n",
       "<style scoped>\n",
       "    .dataframe tbody tr th:only-of-type {\n",
       "        vertical-align: middle;\n",
       "    }\n",
       "\n",
       "    .dataframe tbody tr th {\n",
       "        vertical-align: top;\n",
       "    }\n",
       "\n",
       "    .dataframe thead th {\n",
       "        text-align: right;\n",
       "    }\n",
       "</style>\n",
       "<table border=\"1\" class=\"dataframe\">\n",
       "  <thead>\n",
       "    <tr style=\"text-align: right;\">\n",
       "      <th></th>\n",
       "      <th>country</th>\n",
       "      <th>variable</th>\n",
       "      <th>percentile</th>\n",
       "      <th>year</th>\n",
       "      <th>value</th>\n",
       "      <th>age</th>\n",
       "      <th>pop</th>\n",
       "    </tr>\n",
       "  </thead>\n",
       "  <tbody>\n",
       "    <tr>\n",
       "      <td>16777</td>\n",
       "      <td>BR</td>\n",
       "      <td>gptinc992j</td>\n",
       "      <td>p0p100</td>\n",
       "      <td>2015</td>\n",
       "      <td>0.624942</td>\n",
       "      <td>992</td>\n",
       "      <td>j</td>\n",
       "    </tr>\n",
       "  </tbody>\n",
       "</table>\n",
       "</div>"
      ],
      "text/plain": [
       "      country    variable percentile  year     value  age pop\n",
       "16777      BR  gptinc992j     p0p100  2015  0.624942  992   j"
      ]
     },
     "execution_count": 12,
     "metadata": {},
     "output_type": "execute_result"
    }
   ],
   "source": [
    "#Gini is coded as variable gptinc992j\n",
    "cty   = pd.read_csv('WID_data_'+widcode+'.csv', delimiter=';')\n",
    "gini  = cty[(cty['variable']=='gptinc992j') & (cty['year']==lastyear)]\n",
    "gini"
   ]
  },
  {
   "cell_type": "markdown",
   "metadata": {},
   "source": [
    "Retrieve the Gini estimated by the World Bank in their World Development Indicators, available in [this website](https://data.worldbank.org/indicator/SI.POV.GINI?locations=BR&view=chart) or queried via API. Recent years are queried because there are many missing values. Report the value from the year that is the closest to the one you analyzed in WID "
   ]
  },
  {
   "cell_type": "code",
   "execution_count": 13,
   "metadata": {},
   "outputs": [
    {
     "data": {
      "text/html": [
       "<div>\n",
       "<style scoped>\n",
       "    .dataframe tbody tr th:only-of-type {\n",
       "        vertical-align: middle;\n",
       "    }\n",
       "\n",
       "    .dataframe tbody tr th {\n",
       "        vertical-align: top;\n",
       "    }\n",
       "\n",
       "    .dataframe thead th {\n",
       "        text-align: right;\n",
       "    }\n",
       "</style>\n",
       "<table border=\"1\" class=\"dataframe\">\n",
       "  <thead>\n",
       "    <tr style=\"text-align: right;\">\n",
       "      <th></th>\n",
       "      <th>Country</th>\n",
       "      <th>YR2010</th>\n",
       "      <th>YR2011</th>\n",
       "      <th>YR2012</th>\n",
       "      <th>YR2013</th>\n",
       "      <th>YR2014</th>\n",
       "      <th>YR2015</th>\n",
       "      <th>YR2016</th>\n",
       "      <th>YR2017</th>\n",
       "      <th>YR2018</th>\n",
       "      <th>YR2019</th>\n",
       "    </tr>\n",
       "  </thead>\n",
       "  <tbody>\n",
       "    <tr>\n",
       "      <td>BRA</td>\n",
       "      <td>Brazil</td>\n",
       "      <td>NaN</td>\n",
       "      <td>52.9</td>\n",
       "      <td>53.5</td>\n",
       "      <td>52.8</td>\n",
       "      <td>52.1</td>\n",
       "      <td>51.9</td>\n",
       "      <td>53.3</td>\n",
       "      <td>53.3</td>\n",
       "      <td>53.9</td>\n",
       "      <td>NaN</td>\n",
       "    </tr>\n",
       "  </tbody>\n",
       "</table>\n",
       "</div>"
      ],
      "text/plain": [
       "    Country  YR2010  YR2011  YR2012  YR2013  YR2014  YR2015  YR2016  YR2017  \\\n",
       "BRA  Brazil     NaN    52.9    53.5    52.8    52.1    51.9    53.3    53.3   \n",
       "\n",
       "     YR2018  YR2019  \n",
       "BRA    53.9     NaN  "
      ]
     },
     "execution_count": 13,
     "metadata": {},
     "output_type": "execute_result"
    }
   ],
   "source": [
    "wdi = wb.data.DataFrame('SI.POV.GINI', [wbgcode], time=range(2010, 2020), labels=True)\n",
    "wdi"
   ]
  },
  {
   "cell_type": "markdown",
   "metadata": {},
   "source": [
    "## III. Compare a poor/rich person in this country with the global distribution of income"
   ]
  },
  {
   "cell_type": "markdown",
   "metadata": {},
   "source": [
    "The documentation explains that country files are in Local Currecy Unit (LCU), while the World file is in Euros. The PPP-adjusted exchange for the LCU is a variable in the country file."
   ]
  },
  {
   "cell_type": "code",
   "execution_count": 14,
   "metadata": {},
   "outputs": [
    {
     "data": {
      "text/plain": [
       "3.6910407999999997"
      ]
     },
     "execution_count": 14,
     "metadata": {},
     "output_type": "execute_result"
    }
   ],
   "source": [
    "#Exchange rate between Local Currency Unit and Euros\n",
    "xrate = cty[(cty['variable']=='xlceux999i') & (cty['year']==lastyear)]['value'].values[0]\n",
    "xrate"
   ]
  },
  {
   "cell_type": "code",
   "execution_count": 15,
   "metadata": {},
   "outputs": [
    {
     "name": "stdout",
     "output_type": "stream",
     "text": [
      "Poor person in Brazil makes 388. in local currency unit, or 105. in euro\n",
      "Rich person in Brazil makes 60003. in local currency unit, or 16256. in euro\n"
     ]
    }
   ],
   "source": [
    "#Poor peson and rich person in this country\n",
    "poor = cty[(cty['variable']=='tptinc992j') & (cty['year']==lastyear) & (cty['percentile']=='p0p10')]['value'].values[0]\n",
    "rich = cty[(cty['variable']=='tptinc992j') & (cty['year']==lastyear) & (cty['percentile']=='p90p100')]['value'].values[0]\n",
    "print('Poor person in '+chosencountry+' makes '+np.array2string(poor, precision=0)+' in local currency unit, or '\n",
    "      +np.array2string(poor/xrate, precision=0)+' in euro')\n",
    "print('Rich person in '+chosencountry+' makes '+np.array2string(rich, precision=0)+' in local currency unit, or '\n",
    "      +np.array2string(rich/xrate, precision=0)+' in euro')"
   ]
  },
  {
   "cell_type": "markdown",
   "metadata": {},
   "source": [
    "What percentile of the world income distribution approximatly matches those values?"
   ]
  },
  {
   "cell_type": "code",
   "execution_count": 16,
   "metadata": {},
   "outputs": [
    {
     "data": {
      "text/html": [
       "<div>\n",
       "<style scoped>\n",
       "    .dataframe tbody tr th:only-of-type {\n",
       "        vertical-align: middle;\n",
       "    }\n",
       "\n",
       "    .dataframe tbody tr th {\n",
       "        vertical-align: top;\n",
       "    }\n",
       "\n",
       "    .dataframe thead th {\n",
       "        text-align: right;\n",
       "    }\n",
       "</style>\n",
       "<table border=\"1\" class=\"dataframe\">\n",
       "  <thead>\n",
       "    <tr style=\"text-align: right;\">\n",
       "      <th></th>\n",
       "      <th>percentile</th>\n",
       "      <th>value</th>\n",
       "    </tr>\n",
       "  </thead>\n",
       "  <tbody>\n",
       "    <tr>\n",
       "      <td>16155</td>\n",
       "      <td>p0p1</td>\n",
       "      <td>-1.350451e+07</td>\n",
       "    </tr>\n",
       "    <tr>\n",
       "      <td>37736</td>\n",
       "      <td>p10p11</td>\n",
       "      <td>1.155900e+03</td>\n",
       "    </tr>\n",
       "    <tr>\n",
       "      <td>5740</td>\n",
       "      <td>p11p12</td>\n",
       "      <td>1.243100e+03</td>\n",
       "    </tr>\n",
       "    <tr>\n",
       "      <td>39998</td>\n",
       "      <td>p12p13</td>\n",
       "      <td>1.330000e+03</td>\n",
       "    </tr>\n",
       "    <tr>\n",
       "      <td>38575</td>\n",
       "      <td>p13p14</td>\n",
       "      <td>1.414900e+03</td>\n",
       "    </tr>\n",
       "    <tr>\n",
       "      <td>8253</td>\n",
       "      <td>p14p15</td>\n",
       "      <td>1.501000e+03</td>\n",
       "    </tr>\n",
       "    <tr>\n",
       "      <td>19955</td>\n",
       "      <td>p15p16</td>\n",
       "      <td>1.579000e+03</td>\n",
       "    </tr>\n",
       "    <tr>\n",
       "      <td>42959</td>\n",
       "      <td>p16p17</td>\n",
       "      <td>1.660200e+03</td>\n",
       "    </tr>\n",
       "    <tr>\n",
       "      <td>7854</td>\n",
       "      <td>p17p18</td>\n",
       "      <td>1.742600e+03</td>\n",
       "    </tr>\n",
       "    <tr>\n",
       "      <td>41462</td>\n",
       "      <td>p18p19</td>\n",
       "      <td>1.818800e+03</td>\n",
       "    </tr>\n",
       "    <tr>\n",
       "      <td>27068</td>\n",
       "      <td>p19p20</td>\n",
       "      <td>1.907700e+03</td>\n",
       "    </tr>\n",
       "    <tr>\n",
       "      <td>17331</td>\n",
       "      <td>p1p2</td>\n",
       "      <td>8.340000e+01</td>\n",
       "    </tr>\n",
       "    <tr>\n",
       "      <td>29795</td>\n",
       "      <td>p20p21</td>\n",
       "      <td>1.989500e+03</td>\n",
       "    </tr>\n",
       "    <tr>\n",
       "      <td>35548</td>\n",
       "      <td>p21p22</td>\n",
       "      <td>2.068700e+03</td>\n",
       "    </tr>\n",
       "    <tr>\n",
       "      <td>8290</td>\n",
       "      <td>p22p23</td>\n",
       "      <td>2.152400e+03</td>\n",
       "    </tr>\n",
       "    <tr>\n",
       "      <td>38612</td>\n",
       "      <td>p23p24</td>\n",
       "      <td>2.230700e+03</td>\n",
       "    </tr>\n",
       "    <tr>\n",
       "      <td>20728</td>\n",
       "      <td>p24p25</td>\n",
       "      <td>2.308500e+03</td>\n",
       "    </tr>\n",
       "    <tr>\n",
       "      <td>6912</td>\n",
       "      <td>p25p26</td>\n",
       "      <td>2.399300e+03</td>\n",
       "    </tr>\n",
       "    <tr>\n",
       "      <td>15600</td>\n",
       "      <td>p26p27</td>\n",
       "      <td>2.491900e+03</td>\n",
       "    </tr>\n",
       "    <tr>\n",
       "      <td>6295</td>\n",
       "      <td>p27p28</td>\n",
       "      <td>2.577400e+03</td>\n",
       "    </tr>\n",
       "    <tr>\n",
       "      <td>34664</td>\n",
       "      <td>p28p29</td>\n",
       "      <td>2.651600e+03</td>\n",
       "    </tr>\n",
       "    <tr>\n",
       "      <td>6949</td>\n",
       "      <td>p29p30</td>\n",
       "      <td>2.745800e+03</td>\n",
       "    </tr>\n",
       "    <tr>\n",
       "      <td>32838</td>\n",
       "      <td>p2p3</td>\n",
       "      <td>2.682000e+02</td>\n",
       "    </tr>\n",
       "    <tr>\n",
       "      <td>28487</td>\n",
       "      <td>p30p31</td>\n",
       "      <td>2.844300e+03</td>\n",
       "    </tr>\n",
       "    <tr>\n",
       "      <td>2150</td>\n",
       "      <td>p31p32</td>\n",
       "      <td>2.944900e+03</td>\n",
       "    </tr>\n",
       "    <tr>\n",
       "      <td>24872</td>\n",
       "      <td>p32p33</td>\n",
       "      <td>3.050100e+03</td>\n",
       "    </tr>\n",
       "    <tr>\n",
       "      <td>34701</td>\n",
       "      <td>p33p34</td>\n",
       "      <td>3.160400e+03</td>\n",
       "    </tr>\n",
       "    <tr>\n",
       "      <td>6986</td>\n",
       "      <td>p34p35</td>\n",
       "      <td>3.271500e+03</td>\n",
       "    </tr>\n",
       "    <tr>\n",
       "      <td>22710</td>\n",
       "      <td>p35p36</td>\n",
       "      <td>3.388100e+03</td>\n",
       "    </tr>\n",
       "    <tr>\n",
       "      <td>2923</td>\n",
       "      <td>p36p37</td>\n",
       "      <td>3.502300e+03</td>\n",
       "    </tr>\n",
       "    <tr>\n",
       "      <td>41754</td>\n",
       "      <td>p37p38</td>\n",
       "      <td>3.618600e+03</td>\n",
       "    </tr>\n",
       "    <tr>\n",
       "      <td>10782</td>\n",
       "      <td>p38p39</td>\n",
       "      <td>3.739100e+03</td>\n",
       "    </tr>\n",
       "    <tr>\n",
       "      <td>22747</td>\n",
       "      <td>p39p40</td>\n",
       "      <td>3.865500e+03</td>\n",
       "    </tr>\n",
       "    <tr>\n",
       "      <td>8989</td>\n",
       "      <td>p3p4</td>\n",
       "      <td>3.759000e+02</td>\n",
       "    </tr>\n",
       "    <tr>\n",
       "      <td>2187</td>\n",
       "      <td>p40p41</td>\n",
       "      <td>3.976900e+03</td>\n",
       "    </tr>\n",
       "    <tr>\n",
       "      <td>41791</td>\n",
       "      <td>p41p42</td>\n",
       "      <td>4.109500e+03</td>\n",
       "    </tr>\n",
       "    <tr>\n",
       "      <td>20029</td>\n",
       "      <td>p42p43</td>\n",
       "      <td>4.252400e+03</td>\n",
       "    </tr>\n",
       "    <tr>\n",
       "      <td>13190</td>\n",
       "      <td>p43p44</td>\n",
       "      <td>4.386400e+03</td>\n",
       "    </tr>\n",
       "    <tr>\n",
       "      <td>27755</td>\n",
       "      <td>p44p45</td>\n",
       "      <td>4.520500e+03</td>\n",
       "    </tr>\n",
       "    <tr>\n",
       "      <td>16192</td>\n",
       "      <td>p45p46</td>\n",
       "      <td>4.638300e+03</td>\n",
       "    </tr>\n",
       "    <tr>\n",
       "      <td>36642</td>\n",
       "      <td>p46p47</td>\n",
       "      <td>4.775100e+03</td>\n",
       "    </tr>\n",
       "    <tr>\n",
       "      <td>14946</td>\n",
       "      <td>p47p48</td>\n",
       "      <td>4.947000e+03</td>\n",
       "    </tr>\n",
       "    <tr>\n",
       "      <td>24149</td>\n",
       "      <td>p48p49</td>\n",
       "      <td>5.101100e+03</td>\n",
       "    </tr>\n",
       "    <tr>\n",
       "      <td>10819</td>\n",
       "      <td>p49p50</td>\n",
       "      <td>5.271100e+03</td>\n",
       "    </tr>\n",
       "    <tr>\n",
       "      <td>20839</td>\n",
       "      <td>p4p5</td>\n",
       "      <td>5.136000e+02</td>\n",
       "    </tr>\n",
       "    <tr>\n",
       "      <td>9795</td>\n",
       "      <td>p50p51</td>\n",
       "      <td>5.457100e+03</td>\n",
       "    </tr>\n",
       "    <tr>\n",
       "      <td>5814</td>\n",
       "      <td>p51p52</td>\n",
       "      <td>5.624000e+03</td>\n",
       "    </tr>\n",
       "    <tr>\n",
       "      <td>14251</td>\n",
       "      <td>p52p53</td>\n",
       "      <td>5.800000e+03</td>\n",
       "    </tr>\n",
       "    <tr>\n",
       "      <td>26410</td>\n",
       "      <td>p53p54</td>\n",
       "      <td>5.972500e+03</td>\n",
       "    </tr>\n",
       "    <tr>\n",
       "      <td>22858</td>\n",
       "      <td>p54p55</td>\n",
       "      <td>6.165200e+03</td>\n",
       "    </tr>\n",
       "    <tr>\n",
       "      <td>11876</td>\n",
       "      <td>p55p56</td>\n",
       "      <td>6.354300e+03</td>\n",
       "    </tr>\n",
       "    <tr>\n",
       "      <td>31444</td>\n",
       "      <td>p56p57</td>\n",
       "      <td>6.552700e+03</td>\n",
       "    </tr>\n",
       "    <tr>\n",
       "      <td>13733</td>\n",
       "      <td>p57p58</td>\n",
       "      <td>6.756000e+03</td>\n",
       "    </tr>\n",
       "    <tr>\n",
       "      <td>40035</td>\n",
       "      <td>p58p59</td>\n",
       "      <td>6.970400e+03</td>\n",
       "    </tr>\n",
       "    <tr>\n",
       "      <td>1060</td>\n",
       "      <td>p59p60</td>\n",
       "      <td>7.200500e+03</td>\n",
       "    </tr>\n",
       "    <tr>\n",
       "      <td>16229</td>\n",
       "      <td>p5p6</td>\n",
       "      <td>6.413000e+02</td>\n",
       "    </tr>\n",
       "    <tr>\n",
       "      <td>4383</td>\n",
       "      <td>p60p61</td>\n",
       "      <td>7.421400e+03</td>\n",
       "    </tr>\n",
       "    <tr>\n",
       "      <td>19519</td>\n",
       "      <td>p61p62</td>\n",
       "      <td>7.698400e+03</td>\n",
       "    </tr>\n",
       "    <tr>\n",
       "      <td>1574</td>\n",
       "      <td>p62p63</td>\n",
       "      <td>7.975700e+03</td>\n",
       "    </tr>\n",
       "    <tr>\n",
       "      <td>34812</td>\n",
       "      <td>p63p64</td>\n",
       "      <td>8.261300e+03</td>\n",
       "    </tr>\n",
       "    <tr>\n",
       "      <td>29145</td>\n",
       "      <td>p64p65</td>\n",
       "      <td>8.549700e+03</td>\n",
       "    </tr>\n",
       "    <tr>\n",
       "      <td>12538</td>\n",
       "      <td>p65p66</td>\n",
       "      <td>8.847500e+03</td>\n",
       "    </tr>\n",
       "    <tr>\n",
       "      <td>1611</td>\n",
       "      <td>p66p67</td>\n",
       "      <td>9.177600e+03</td>\n",
       "    </tr>\n",
       "    <tr>\n",
       "      <td>29869</td>\n",
       "      <td>p67p68</td>\n",
       "      <td>9.527900e+03</td>\n",
       "    </tr>\n",
       "    <tr>\n",
       "      <td>18203</td>\n",
       "      <td>p68p69</td>\n",
       "      <td>9.919600e+03</td>\n",
       "    </tr>\n",
       "    <tr>\n",
       "      <td>29906</td>\n",
       "      <td>p69p70</td>\n",
       "      <td>1.032960e+04</td>\n",
       "    </tr>\n",
       "    <tr>\n",
       "      <td>22126</td>\n",
       "      <td>p6p7</td>\n",
       "      <td>7.628000e+02</td>\n",
       "    </tr>\n",
       "    <tr>\n",
       "      <td>39410</td>\n",
       "      <td>p70p71</td>\n",
       "      <td>1.074740e+04</td>\n",
       "    </tr>\n",
       "    <tr>\n",
       "      <td>16850</td>\n",
       "      <td>p71p72</td>\n",
       "      <td>1.118200e+04</td>\n",
       "    </tr>\n",
       "    <tr>\n",
       "      <td>20066</td>\n",
       "      <td>p72p73</td>\n",
       "      <td>1.164250e+04</td>\n",
       "    </tr>\n",
       "    <tr>\n",
       "      <td>11181</td>\n",
       "      <td>p73p74</td>\n",
       "      <td>1.212430e+04</td>\n",
       "    </tr>\n",
       "    <tr>\n",
       "      <td>5226</td>\n",
       "      <td>p74p75</td>\n",
       "      <td>1.263080e+04</td>\n",
       "    </tr>\n",
       "    <tr>\n",
       "      <td>29943</td>\n",
       "      <td>p75p76</td>\n",
       "      <td>1.316820e+04</td>\n",
       "    </tr>\n",
       "    <tr>\n",
       "      <td>12575</td>\n",
       "      <td>p76p77</td>\n",
       "      <td>1.375040e+04</td>\n",
       "    </tr>\n",
       "    <tr>\n",
       "      <td>3034</td>\n",
       "      <td>p77p78</td>\n",
       "      <td>1.438390e+04</td>\n",
       "    </tr>\n",
       "    <tr>\n",
       "      <td>1648</td>\n",
       "      <td>p78p79</td>\n",
       "      <td>1.504950e+04</td>\n",
       "    </tr>\n",
       "    <tr>\n",
       "      <td>14983</td>\n",
       "      <td>p79p80</td>\n",
       "      <td>1.575110e+04</td>\n",
       "    </tr>\n",
       "    <tr>\n",
       "      <td>25534</td>\n",
       "      <td>p7p8</td>\n",
       "      <td>8.630000e+02</td>\n",
       "    </tr>\n",
       "    <tr>\n",
       "      <td>29182</td>\n",
       "      <td>p80p81</td>\n",
       "      <td>1.649580e+04</td>\n",
       "    </tr>\n",
       "    <tr>\n",
       "      <td>38649</td>\n",
       "      <td>p81p82</td>\n",
       "      <td>1.729610e+04</td>\n",
       "    </tr>\n",
       "    <tr>\n",
       "      <td>18240</td>\n",
       "      <td>p82p83</td>\n",
       "      <td>1.815320e+04</td>\n",
       "    </tr>\n",
       "    <tr>\n",
       "      <td>9832</td>\n",
       "      <td>p83p84</td>\n",
       "      <td>1.906330e+04</td>\n",
       "    </tr>\n",
       "    <tr>\n",
       "      <td>32184</td>\n",
       "      <td>p84p85</td>\n",
       "      <td>2.000420e+04</td>\n",
       "    </tr>\n",
       "    <tr>\n",
       "      <td>8364</td>\n",
       "      <td>p85p86</td>\n",
       "      <td>2.102700e+04</td>\n",
       "    </tr>\n",
       "    <tr>\n",
       "      <td>24983</td>\n",
       "      <td>p86p87</td>\n",
       "      <td>2.213850e+04</td>\n",
       "    </tr>\n",
       "    <tr>\n",
       "      <td>11218</td>\n",
       "      <td>p87p88</td>\n",
       "      <td>2.333480e+04</td>\n",
       "    </tr>\n",
       "    <tr>\n",
       "      <td>7928</td>\n",
       "      <td>p88p89</td>\n",
       "      <td>2.461390e+04</td>\n",
       "    </tr>\n",
       "    <tr>\n",
       "      <td>25571</td>\n",
       "      <td>p89p90</td>\n",
       "      <td>2.606680e+04</td>\n",
       "    </tr>\n",
       "    <tr>\n",
       "      <td>10276</td>\n",
       "      <td>p8p9</td>\n",
       "      <td>9.736000e+02</td>\n",
       "    </tr>\n",
       "    <tr>\n",
       "      <td>30017</td>\n",
       "      <td>p90p91</td>\n",
       "      <td>2.774320e+04</td>\n",
       "    </tr>\n",
       "    <tr>\n",
       "      <td>3840</td>\n",
       "      <td>p91p92</td>\n",
       "      <td>2.975760e+04</td>\n",
       "    </tr>\n",
       "    <tr>\n",
       "      <td>16924</td>\n",
       "      <td>p92p93</td>\n",
       "      <td>3.214250e+04</td>\n",
       "    </tr>\n",
       "    <tr>\n",
       "      <td>39447</td>\n",
       "      <td>p93p94</td>\n",
       "      <td>3.490160e+04</td>\n",
       "    </tr>\n",
       "    <tr>\n",
       "      <td>9026</td>\n",
       "      <td>p94p95</td>\n",
       "      <td>3.812220e+04</td>\n",
       "    </tr>\n",
       "    <tr>\n",
       "      <td>20432</td>\n",
       "      <td>p95p96</td>\n",
       "      <td>4.207820e+04</td>\n",
       "    </tr>\n",
       "    <tr>\n",
       "      <td>35585</td>\n",
       "      <td>p96p97</td>\n",
       "      <td>4.782180e+04</td>\n",
       "    </tr>\n",
       "    <tr>\n",
       "      <td>25933</td>\n",
       "      <td>p97p98</td>\n",
       "      <td>5.737530e+04</td>\n",
       "    </tr>\n",
       "    <tr>\n",
       "      <td>18277</td>\n",
       "      <td>p98p99</td>\n",
       "      <td>7.141340e+04</td>\n",
       "    </tr>\n",
       "    <tr>\n",
       "      <td>32221</td>\n",
       "      <td>p99p100</td>\n",
       "      <td>1.024713e+05</td>\n",
       "    </tr>\n",
       "    <tr>\n",
       "      <td>25970</td>\n",
       "      <td>p9p10</td>\n",
       "      <td>1.061900e+03</td>\n",
       "    </tr>\n",
       "  </tbody>\n",
       "</table>\n",
       "</div>"
      ],
      "text/plain": [
       "      percentile         value\n",
       "16155       p0p1 -1.350451e+07\n",
       "37736     p10p11  1.155900e+03\n",
       "5740      p11p12  1.243100e+03\n",
       "39998     p12p13  1.330000e+03\n",
       "38575     p13p14  1.414900e+03\n",
       "8253      p14p15  1.501000e+03\n",
       "19955     p15p16  1.579000e+03\n",
       "42959     p16p17  1.660200e+03\n",
       "7854      p17p18  1.742600e+03\n",
       "41462     p18p19  1.818800e+03\n",
       "27068     p19p20  1.907700e+03\n",
       "17331       p1p2  8.340000e+01\n",
       "29795     p20p21  1.989500e+03\n",
       "35548     p21p22  2.068700e+03\n",
       "8290      p22p23  2.152400e+03\n",
       "38612     p23p24  2.230700e+03\n",
       "20728     p24p25  2.308500e+03\n",
       "6912      p25p26  2.399300e+03\n",
       "15600     p26p27  2.491900e+03\n",
       "6295      p27p28  2.577400e+03\n",
       "34664     p28p29  2.651600e+03\n",
       "6949      p29p30  2.745800e+03\n",
       "32838       p2p3  2.682000e+02\n",
       "28487     p30p31  2.844300e+03\n",
       "2150      p31p32  2.944900e+03\n",
       "24872     p32p33  3.050100e+03\n",
       "34701     p33p34  3.160400e+03\n",
       "6986      p34p35  3.271500e+03\n",
       "22710     p35p36  3.388100e+03\n",
       "2923      p36p37  3.502300e+03\n",
       "41754     p37p38  3.618600e+03\n",
       "10782     p38p39  3.739100e+03\n",
       "22747     p39p40  3.865500e+03\n",
       "8989        p3p4  3.759000e+02\n",
       "2187      p40p41  3.976900e+03\n",
       "41791     p41p42  4.109500e+03\n",
       "20029     p42p43  4.252400e+03\n",
       "13190     p43p44  4.386400e+03\n",
       "27755     p44p45  4.520500e+03\n",
       "16192     p45p46  4.638300e+03\n",
       "36642     p46p47  4.775100e+03\n",
       "14946     p47p48  4.947000e+03\n",
       "24149     p48p49  5.101100e+03\n",
       "10819     p49p50  5.271100e+03\n",
       "20839       p4p5  5.136000e+02\n",
       "9795      p50p51  5.457100e+03\n",
       "5814      p51p52  5.624000e+03\n",
       "14251     p52p53  5.800000e+03\n",
       "26410     p53p54  5.972500e+03\n",
       "22858     p54p55  6.165200e+03\n",
       "11876     p55p56  6.354300e+03\n",
       "31444     p56p57  6.552700e+03\n",
       "13733     p57p58  6.756000e+03\n",
       "40035     p58p59  6.970400e+03\n",
       "1060      p59p60  7.200500e+03\n",
       "16229       p5p6  6.413000e+02\n",
       "4383      p60p61  7.421400e+03\n",
       "19519     p61p62  7.698400e+03\n",
       "1574      p62p63  7.975700e+03\n",
       "34812     p63p64  8.261300e+03\n",
       "29145     p64p65  8.549700e+03\n",
       "12538     p65p66  8.847500e+03\n",
       "1611      p66p67  9.177600e+03\n",
       "29869     p67p68  9.527900e+03\n",
       "18203     p68p69  9.919600e+03\n",
       "29906     p69p70  1.032960e+04\n",
       "22126       p6p7  7.628000e+02\n",
       "39410     p70p71  1.074740e+04\n",
       "16850     p71p72  1.118200e+04\n",
       "20066     p72p73  1.164250e+04\n",
       "11181     p73p74  1.212430e+04\n",
       "5226      p74p75  1.263080e+04\n",
       "29943     p75p76  1.316820e+04\n",
       "12575     p76p77  1.375040e+04\n",
       "3034      p77p78  1.438390e+04\n",
       "1648      p78p79  1.504950e+04\n",
       "14983     p79p80  1.575110e+04\n",
       "25534       p7p8  8.630000e+02\n",
       "29182     p80p81  1.649580e+04\n",
       "38649     p81p82  1.729610e+04\n",
       "18240     p82p83  1.815320e+04\n",
       "9832      p83p84  1.906330e+04\n",
       "32184     p84p85  2.000420e+04\n",
       "8364      p85p86  2.102700e+04\n",
       "24983     p86p87  2.213850e+04\n",
       "11218     p87p88  2.333480e+04\n",
       "7928      p88p89  2.461390e+04\n",
       "25571     p89p90  2.606680e+04\n",
       "10276       p8p9  9.736000e+02\n",
       "30017     p90p91  2.774320e+04\n",
       "3840      p91p92  2.975760e+04\n",
       "16924     p92p93  3.214250e+04\n",
       "39447     p93p94  3.490160e+04\n",
       "9026      p94p95  3.812220e+04\n",
       "20432     p95p96  4.207820e+04\n",
       "35585     p96p97  4.782180e+04\n",
       "25933     p97p98  5.737530e+04\n",
       "18277     p98p99  7.141340e+04\n",
       "32221    p99p100  1.024713e+05\n",
       "25970      p9p10  1.061900e+03"
      ]
     },
     "execution_count": 16,
     "metadata": {},
     "output_type": "execute_result"
    }
   ],
   "source": [
    "#Display world income distribution to find equivalence\n",
    "world = pd.read_csv('WID_data_WO.csv', delimiter=';')\n",
    "world = world[(world['variable'] == 'tptinc992j') & (world['year'] == 2016)]\n",
    "\n",
    "percentiles = []\n",
    "for i in range(100):\n",
    "    percentiles.append('p'+str(i)+'p'+str(i+1))\n",
    "\n",
    "pd.set_option('display.max_rows', None)\n",
    "showme = world[world['percentile'].isin(percentiles)]\n",
    "\n",
    "#This is not really sorted in numeric order, rather alphabetically\n",
    "showme[['percentile','value']].sort_values('percentile')"
   ]
  }
 ],
 "metadata": {
  "colab": {
   "collapsed_sections": [],
   "name": "Inequality Assignment Notebook.ipynb",
   "provenance": [],
   "toc_visible": true
  },
  "kernelspec": {
   "display_name": "Python 3",
   "language": "python",
   "name": "python3"
  },
  "language_info": {
   "codemirror_mode": {
    "name": "ipython",
    "version": 3
   },
   "file_extension": ".py",
   "mimetype": "text/x-python",
   "name": "python",
   "nbconvert_exporter": "python",
   "pygments_lexer": "ipython3",
   "version": "3.7.4"
  }
 },
 "nbformat": 4,
 "nbformat_minor": 1
}
