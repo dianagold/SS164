{
 "cells": [
  {
   "cell_type": "markdown",
   "metadata": {},
   "source": [
    "# SS164 Inequality Assignment"
   ]
  },
  {
   "cell_type": "markdown",
   "metadata": {},
   "source": [
    "<font color='maroon'>Disclaimer: the assignment will be graded solely on **demonstrated understanding of the concepts** through the discussion and interpretation of the results. Code and analytical work will not be evaluated, nor should be submitted.</font> \n",
    "\n",
    "In this notebook, all you need to do is to change the chosen country below (from this [list of options](https://github.com/dianagold/SS164/blob/master/inequality/Countries_for_Inequality.csv)), and run all cells. If you have trouble running this code, alternatively, you can do the work manually. A detailed step-by-step is provided in the assignment and includes downloading the [zipfile from World Inequality Database](https://wid.world/bulk_download/wid_all_data.zip), extrating the csv of your country, filtering and sorting with Excel and pasting in [this interactive website](http://shlegeris.com/gini)."
   ]
  },
  {
   "cell_type": "code",
   "execution_count": 1,
   "metadata": {},
   "outputs": [],
   "source": [
    "#Change here for the country you chose (must be spelled exactly the same as in the list of options)\n",
    "chosencountry = 'United Kingdom'"
   ]
  },
  {
   "cell_type": "markdown",
   "metadata": {
    "colab_type": "text",
    "id": "cy5MIA4safU-"
   },
   "source": [
    "## I. Setup\n",
    "Import libraries"
   ]
  },
  {
   "cell_type": "code",
   "execution_count": 2,
   "metadata": {
    "colab": {},
    "colab_type": "code",
    "id": "6BRjzlwaZ4aL"
   },
   "outputs": [],
   "source": [
    "import os\n",
    "import numpy as np\n",
    "import pandas as pd\n",
    "import wbgapi as wb\n",
    "import urllib.request\n",
    "from zipfile import ZipFile\n",
    "from matplotlib import pyplot as plt\n",
    "%matplotlib inline"
   ]
  },
  {
   "cell_type": "markdown",
   "metadata": {},
   "source": [
    "Find chosen country in table with the list of options to store corresponding codes and year"
   ]
  },
  {
   "cell_type": "code",
   "execution_count": 3,
   "metadata": {},
   "outputs": [
    {
     "data": {
      "text/html": [
       "<div>\n",
       "<style scoped>\n",
       "    .dataframe tbody tr th:only-of-type {\n",
       "        vertical-align: middle;\n",
       "    }\n",
       "\n",
       "    .dataframe tbody tr th {\n",
       "        vertical-align: top;\n",
       "    }\n",
       "\n",
       "    .dataframe thead th {\n",
       "        text-align: right;\n",
       "    }\n",
       "</style>\n",
       "<table border=\"1\" class=\"dataframe\">\n",
       "  <thead>\n",
       "    <tr style=\"text-align: right;\">\n",
       "      <th></th>\n",
       "      <th>Country</th>\n",
       "      <th>WID_Code</th>\n",
       "      <th>WBG_Code</th>\n",
       "      <th>Latest Year</th>\n",
       "      <th>Variable</th>\n",
       "      <th>Note</th>\n",
       "    </tr>\n",
       "  </thead>\n",
       "  <tbody>\n",
       "    <tr>\n",
       "      <td>82</td>\n",
       "      <td>United Kingdom</td>\n",
       "      <td>GB</td>\n",
       "      <td>GBR</td>\n",
       "      <td>2019</td>\n",
       "      <td>tptinc992j</td>\n",
       "      <td>not allowed</td>\n",
       "    </tr>\n",
       "  </tbody>\n",
       "</table>\n",
       "</div>"
      ],
      "text/plain": [
       "           Country WID_Code WBG_Code  Latest Year    Variable         Note\n",
       "82  United Kingdom       GB      GBR         2019  tptinc992j  not allowed"
      ]
     },
     "execution_count": 3,
     "metadata": {},
     "output_type": "execute_result"
    }
   ],
   "source": [
    "countrytable = pd.read_csv('Countries_for_Inequality.csv')\n",
    "chosenline = countrytable[countrytable['Country']==chosencountry]\n",
    "widcode    = chosenline['WID_Code'].values[0]\n",
    "wbgcode    = chosenline['WBG_Code'].values[0]\n",
    "lastyear   = chosenline['Latest Year'].values[0]\n",
    "incomevar  = chosenline['Variable'].values[0]\n",
    "chosenline"
   ]
  },
  {
   "cell_type": "markdown",
   "metadata": {
    "colab_type": "text",
    "id": "Oj7lCJhAainW"
   },
   "source": [
    "Function to calculate the Gini index based on sorted array"
   ]
  },
  {
   "cell_type": "code",
   "execution_count": 4,
   "metadata": {
    "colab": {},
    "colab_type": "code",
    "id": "j6JrUpPaaCO7"
   },
   "outputs": [],
   "source": [
    "def gini(arr):\n",
    "    #sort array\n",
    "    sorted_arr = arr.copy()\n",
    "    sorted_arr.sort()\n",
    "    n = arr.size\n",
    "    coef_ = 2. / n\n",
    "    const_ = (n + 1.) / n\n",
    "    weighted_sum = sum([(i+1)*yi for i, yi in enumerate(sorted_arr)])\n",
    "    return coef_*weighted_sum/(sorted_arr.sum()) - const_"
   ]
  },
  {
   "cell_type": "markdown",
   "metadata": {
    "colab_type": "text",
    "id": "dOekcBdgarn6"
   },
   "source": [
    "Function to plot the Lorenz Curve from grouped data"
   ]
  },
  {
   "cell_type": "code",
   "execution_count": 5,
   "metadata": {
    "colab": {},
    "colab_type": "code",
    "id": "he625gWXaQtB"
   },
   "outputs": [],
   "source": [
    "def lorenz_curve(X):\n",
    "    #Process data for Lorenz Curve\n",
    "    X_lorenz = X.cumsum() / X.sum()\n",
    "    X_lorenz = np.insert(X_lorenz, 0, 0) \n",
    "    X_lorenz[0], X_lorenz[-1]\n",
    "    fig, ax = plt.subplots(figsize=[8,8])\n",
    "\n",
    "    ##Plot of Lorenz curve\n",
    "    ax.plot(np.arange(X_lorenz.size)/(X_lorenz.size-1), X_lorenz,marker='.',markevery=2, color='black')\n",
    "\n",
    "    ## shade area\n",
    "    ax.fill(np.arange(X_lorenz.size)/(X_lorenz.size-1), X_lorenz,color='grey')\n",
    "    ax.fill_between(np.arange(X_lorenz.size)/(X_lorenz.size-1), X_lorenz,color='pink')\n",
    "\n",
    "    ## line plot of equality\n",
    "    ax.plot([0,1], [0,1], color='k')\n",
    "\n",
    "    #plot gini index as a legend\n",
    "    ax.text(0.1,0.9,'Gini Index = %f' %(gini(X)))\n",
    "\n",
    "    #labels for plot\n",
    "    ax.set_xlabel('Fraction of the population')\n",
    "    ax.set_ylabel('Cumulative Income share')\n",
    "\n",
    "    ax.set_yticklabels([])\n",
    "    ax.set_xticklabels([])\n",
    "    plt.show()"
   ]
  },
  {
   "cell_type": "markdown",
   "metadata": {
    "colab_type": "text",
    "id": "6K41s7_H6kYx"
   },
   "source": [
    "Function to plot a histogram of income distribution"
   ]
  },
  {
   "cell_type": "code",
   "execution_count": 6,
   "metadata": {
    "colab": {},
    "colab_type": "code",
    "id": "109HyIaX6jsW"
   },
   "outputs": [],
   "source": [
    "def inequality_plot(data):\n",
    "  fig, ax = plt.subplots(figsize=[8,8])\n",
    "  plt.bar([x for x in range(len(data))],data,width=1,color='grey')\n",
    "  #labels for plot\n",
    "  ax.set_xlabel('Population')\n",
    "  ax.set_ylabel('Income')\n",
    "  ax.set_xticks([])\n",
    "  ax.set_xticklabels([])\n",
    "  plt.show()"
   ]
  },
  {
   "cell_type": "markdown",
   "metadata": {
    "colab_type": "text",
    "id": "mkZqOd7-MPCF"
   },
   "source": [
    "Function that plot graphs for chosen Data, Year, and Variable\n"
   ]
  },
  {
   "cell_type": "code",
   "execution_count": 7,
   "metadata": {
    "colab": {},
    "colab_type": "code",
    "id": "Ubjx-S_gMnfp"
   },
   "outputs": [],
   "source": [
    "def inequality(country,variable,year,division='percentile'):\n",
    "  \"\"\"\n",
    "  country  = Country code for i.e BR is Brazil. Data is extracted for the respective country\n",
    "  variable = One of the variables from  tptinc992j, tfiinc992j, tdiinc992j or tcainc992j. Income inequality data on the variable is extracted\n",
    "  year     = Year for which you extract the income inequality data for\n",
    "  division = Whether you want data in percentiles or deciles. The default is percentiles so if you want deciles, just pass the word 'decile' to the function\n",
    "  \"\"\"\n",
    "  \n",
    "  #Read csv file\n",
    "  data = pd.read_csv('WID_data_'+country+'.csv', delimiter=';')\n",
    "\n",
    "  #If you want data in percentiles\n",
    "  if division == 'percentile' or division == 'percentiles':\n",
    "    percentiles = []\n",
    "    for i in range(100):\n",
    "      percentiles.append('p'+str(i)+'p'+str(i+1))\n",
    "    \n",
    "    #Filter data according to student defined constraints\n",
    "    inequality_data = []\n",
    "    temp = data.loc[(data['variable'] == variable) & (data['year'] == year)]\n",
    "    for i in percentiles:\n",
    "      inequality_data.append(temp.loc[temp['percentile']==i]['value'].values[0])\n",
    "    \n",
    "    return inequality_plot(np.array(inequality_data)), lorenz_curve(np.array(inequality_data))\n",
    "\n",
    "  elif division == 'decile' or division == 'deciles' :\n",
    "    deciles = []\n",
    "    for i in range(0,100,10):\n",
    "      deciles.append('p'+str(i)+'p'+str(i+10))\n",
    "    \n",
    "    #Filter data according to student defined constraints\n",
    "    inequality_data = []\n",
    "    temp = data.loc[(data['variable'] == variable) & (data['year'] == year)]\n",
    "    for i in deciles:\n",
    "      inequality_data.append(temp.loc[temp['percentile']==i]['value'].values[0])\n",
    "    \n",
    "    return inequality_plot(np.array(inequality_data)), lorenz_curve(np.array(inequality_data))\n"
   ]
  },
  {
   "cell_type": "markdown",
   "metadata": {
    "colab_type": "text",
    "id": "73UU72rza3jF"
   },
   "source": [
    "Download data file from the [World Inequality Database (WID)](https://wid.world/data/), which is ~100Mb"
   ]
  },
  {
   "cell_type": "code",
   "execution_count": 8,
   "metadata": {
    "colab": {
     "base_uri": "https://localhost:8080/",
     "height": 204
    },
    "colab_type": "code",
    "id": "jCUkiYprgrsP",
    "outputId": "fcd62534-55a4-428a-da93-91853d874c0a"
   },
   "outputs": [
    {
     "name": "stdout",
     "output_type": "stream",
     "text": [
      "File already downloaded\n"
     ]
    }
   ],
   "source": [
    "if os.path.isfile('./wid_all_data.zip') :\n",
    "    print('File already downloaded')\n",
    "    \n",
    "else :\n",
    "    import zipfile\n",
    "\n",
    "    url = 'https://wid.world/bulk_download/wid_all_data.zip'\n",
    "    filename = 'wid_all_data.zip'\n",
    "\n",
    "    urllib.request.urlretrieve(url, filename)"
   ]
  },
  {
   "cell_type": "markdown",
   "metadata": {},
   "source": [
    "Extract the contents of the chosen country and the whole word"
   ]
  },
  {
   "cell_type": "code",
   "execution_count": 9,
   "metadata": {},
   "outputs": [],
   "source": [
    "with ZipFile('wid_all_data.zip', 'r') as zip_ref:\n",
    "    for filename in ['WID_data_'+widcode+'.csv', 'WID_data_WO.csv']:\n",
    "         zip_ref.extract(filename)"
   ]
  },
  {
   "cell_type": "markdown",
   "metadata": {},
   "source": [
    "## II. Check four values for the Gini"
   ]
  },
  {
   "cell_type": "code",
   "execution_count": 10,
   "metadata": {
    "colab": {
     "base_uri": "https://localhost:8080/",
     "height": 967
    },
    "colab_type": "code",
    "id": "zPWjpMeXKHjs",
    "outputId": "019f8272-dc59-41fc-a431-6f0b57258f14"
   },
   "outputs": [
    {
     "data": {
      "image/png": "[encoded data removed]",
      "text/plain": [
       "<Figure size 576x576 with 1 Axes>"
      ]
     },
     "metadata": {
      "needs_background": "light"
     },
     "output_type": "display_data"
    },
    {
     "data": {
      "image/png": "[encoded data removed]",
      "text/plain": [
       "<Figure size 576x576 with 1 Axes>"
      ]
     },
     "metadata": {
      "needs_background": "light"
     },
     "output_type": "display_data"
    },
    {
     "data": {
      "text/plain": [
       "(None, None)"
      ]
     },
     "execution_count": 10,
     "metadata": {},
     "output_type": "execute_result"
    }
   ],
   "source": [
    "#Calculate Gini from WID income deciles\n",
    "inequality(widcode,incomevar,lastyear,'deciles')"
   ]
  },
  {
   "cell_type": "code",
   "execution_count": 11,
   "metadata": {
    "colab": {
     "base_uri": "https://localhost:8080/",
     "height": 967
    },
    "colab_type": "code",
    "id": "WhE9KNmoPqM5",
    "outputId": "ade0fadb-7535-45ef-f78e-2dca6227a11b"
   },
   "outputs": [
    {
     "data": {
      "image/png": "[encoded data removed]",
      "text/plain": [
       "<Figure size 576x576 with 1 Axes>"
      ]
     },
     "metadata": {
      "needs_background": "light"
     },
     "output_type": "display_data"
    },
    {
     "data": {
      "image/png": "[encoded data removed]",
      "text/plain": [
       "<Figure size 576x576 with 1 Axes>"
      ]
     },
     "metadata": {
      "needs_background": "light"
     },
     "output_type": "display_data"
    },
    {
     "data": {
      "text/plain": [
       "(None, None)"
      ]
     },
     "execution_count": 11,
     "metadata": {},
     "output_type": "execute_result"
    }
   ],
   "source": [
    "#Calculate Gini from WID income percentiles\n",
    "inequality(widcode,incomevar,lastyear)"
   ]
  },
  {
   "cell_type": "markdown",
   "metadata": {},
   "source": [
    "Retrieve the Gini stored in the WID dataset"
   ]
  },
  {
   "cell_type": "code",
   "execution_count": 12,
   "metadata": {},
   "outputs": [
    {
     "data": {
      "text/html": [
       "<div>\n",
       "<style scoped>\n",
       "    .dataframe tbody tr th:only-of-type {\n",
       "        vertical-align: middle;\n",
       "    }\n",
       "\n",
       "    .dataframe tbody tr th {\n",
       "        vertical-align: top;\n",
       "    }\n",
       "\n",
       "    .dataframe thead th {\n",
       "        text-align: right;\n",
       "    }\n",
       "</style>\n",
       "<table border=\"1\" class=\"dataframe\">\n",
       "  <thead>\n",
       "    <tr style=\"text-align: right;\">\n",
       "      <th></th>\n",
       "      <th>country</th>\n",
       "      <th>variable</th>\n",
       "      <th>percentile</th>\n",
       "      <th>year</th>\n",
       "      <th>value</th>\n",
       "      <th>age</th>\n",
       "      <th>pop</th>\n",
       "    </tr>\n",
       "  </thead>\n",
       "  <tbody>\n",
       "    <tr>\n",
       "      <td>159389</td>\n",
       "      <td>GB</td>\n",
       "      <td>gptinc992j</td>\n",
       "      <td>p0p100</td>\n",
       "      <td>2019</td>\n",
       "      <td>0.46599</td>\n",
       "      <td>992</td>\n",
       "      <td>j</td>\n",
       "    </tr>\n",
       "  </tbody>\n",
       "</table>\n",
       "</div>"
      ],
      "text/plain": [
       "       country    variable percentile  year    value  age pop\n",
       "159389      GB  gptinc992j     p0p100  2019  0.46599  992   j"
      ]
     },
     "execution_count": 12,
     "metadata": {},
     "output_type": "execute_result"
    }
   ],
   "source": [
    "#Gini is coded as variable gptinc992j\n",
    "cty   = pd.read_csv('WID_data_'+widcode+'.csv', delimiter=';')\n",
    "gini  = cty[(cty['variable']=='gptinc992j') & (cty['year']==lastyear)]\n",
    "gini"
   ]
  },
  {
   "cell_type": "markdown",
   "metadata": {},
   "source": [
    "Retrieve the Gini estimated by the World Bank in their World Development Indicators, available in [this website](https://data.worldbank.org/indicator/SI.POV.GINI?locations=BR&view=chart) or queried via API. Recent years are queried because there are many missing values. Report the value from the year that is the closest to the one you analyzed in WID "
   ]
  },
  {
   "cell_type": "code",
   "execution_count": 13,
   "metadata": {},
   "outputs": [
    {
     "data": {
      "text/html": [
       "<div>\n",
       "<style scoped>\n",
       "    .dataframe tbody tr th:only-of-type {\n",
       "        vertical-align: middle;\n",
       "    }\n",
       "\n",
       "    .dataframe tbody tr th {\n",
       "        vertical-align: top;\n",
       "    }\n",
       "\n",
       "    .dataframe thead th {\n",
       "        text-align: right;\n",
       "    }\n",
       "</style>\n",
       "<table border=\"1\" class=\"dataframe\">\n",
       "  <thead>\n",
       "    <tr style=\"text-align: right;\">\n",
       "      <th></th>\n",
       "      <th>Country</th>\n",
       "      <th>YR2010</th>\n",
       "      <th>YR2011</th>\n",
       "      <th>YR2012</th>\n",
       "      <th>YR2013</th>\n",
       "      <th>YR2014</th>\n",
       "      <th>YR2015</th>\n",
       "      <th>YR2016</th>\n",
       "      <th>YR2017</th>\n",
       "      <th>YR2018</th>\n",
       "      <th>YR2019</th>\n",
       "    </tr>\n",
       "    <tr>\n",
       "      <th>economy</th>\n",
       "      <th></th>\n",
       "      <th></th>\n",
       "      <th></th>\n",
       "      <th></th>\n",
       "      <th></th>\n",
       "      <th></th>\n",
       "      <th></th>\n",
       "      <th></th>\n",
       "      <th></th>\n",
       "      <th></th>\n",
       "      <th></th>\n",
       "    </tr>\n",
       "  </thead>\n",
       "  <tbody>\n",
       "    <tr>\n",
       "      <td>GBR</td>\n",
       "      <td>United Kingdom</td>\n",
       "      <td>34.4</td>\n",
       "      <td>33.2</td>\n",
       "      <td>32.3</td>\n",
       "      <td>33.2</td>\n",
       "      <td>34.0</td>\n",
       "      <td>33.2</td>\n",
       "      <td>34.8</td>\n",
       "      <td>35.1</td>\n",
       "      <td>NaN</td>\n",
       "      <td>NaN</td>\n",
       "    </tr>\n",
       "  </tbody>\n",
       "</table>\n",
       "</div>"
      ],
      "text/plain": [
       "                Country  YR2010  YR2011  YR2012  YR2013  YR2014  YR2015  \\\n",
       "economy                                                                   \n",
       "GBR      United Kingdom    34.4    33.2    32.3    33.2    34.0    33.2   \n",
       "\n",
       "         YR2016  YR2017  YR2018  YR2019  \n",
       "economy                                  \n",
       "GBR        34.8    35.1     NaN     NaN  "
      ]
     },
     "execution_count": 13,
     "metadata": {},
     "output_type": "execute_result"
    }
   ],
   "source": [
    "wdi = wb.data.DataFrame('SI.POV.GINI', [wbgcode], time=range(2010, 2020), labels=True)\n",
    "wdi"
   ]
  },
  {
   "cell_type": "markdown",
   "metadata": {},
   "source": [
    "## III. Compare a poor/rich person in this country with the global distribution of income"
   ]
  },
  {
   "cell_type": "markdown",
   "metadata": {},
   "source": [
    "The documentation explains that country files are in Local Currecy Unit (LCU), while the World file is in Euros. The PPP-adjusted exchange for the LCU is a variable in the country file. First, we retrieve this value (which is of course, 1, for countries that use euros). Then we show the income of a poor person (between 10-20% of the distribution), median person (at 50%), and rich person (90%-100%) in this country in euros."
   ]
  },
  {
   "cell_type": "code",
   "execution_count": 14,
   "metadata": {},
   "outputs": [
    {
     "data": {
      "text/plain": [
       "0.8460931723999999"
      ]
     },
     "execution_count": 14,
     "metadata": {},
     "output_type": "execute_result"
    }
   ],
   "source": [
    "#Exchange rate between Local Currency Unit and Euros\n",
    "xrate = cty[(cty['variable']=='xlceux999i') & (cty['year']==lastyear)]['value'].values[0]\n",
    "xrate"
   ]
  },
  {
   "cell_type": "code",
   "execution_count": 15,
   "metadata": {},
   "outputs": [
    {
     "name": "stdout",
     "output_type": "stream",
     "text": [
      "In the year of 2019\n",
      "Poor person (p10p20) in United Kingdom makes 4598. in local currency unit, or 5435. in euros\n",
      "Median person (p50p51) in United Kingdom makes 24213. in local currency unit, or 28618. in euros\n",
      "Rich person (p90p10) in United Kingdom makes 57557. in local currency unit, or 68027. in euros\n"
     ]
    }
   ],
   "source": [
    "#Poor, median and rich person in this country\n",
    "poor   = cty[(cty['variable']==incomevar) & (cty['year']==lastyear) & (cty['percentile']=='p10p20')]['value'].values[0]\n",
    "middle = cty[(cty['variable']==incomevar) & (cty['year']==lastyear) & (cty['percentile']=='p50p51')]['value'].values[0]\n",
    "rich   = cty[(cty['variable']==incomevar) & (cty['year']==lastyear) & (cty['percentile']=='p90p100')]['value'].values[0]\n",
    "print('In the year of '+np.array2string(lastyear))\n",
    "print('Poor person (p10p20) in '+chosencountry+' makes '+np.array2string(poor, precision=0)+' in local currency unit, or '\n",
    "      +np.array2string(poor/xrate, precision=0)+' in euros')\n",
    "print('Median person (p50p51) in '+chosencountry+' makes '+np.array2string(middle, precision=0)+' in local currency unit, or '\n",
    "      +np.array2string(middle/xrate, precision=0)+' in euros')\n",
    "print('Rich person (p90p10) in '+chosencountry+' makes '+np.array2string(rich, precision=0)+' in local currency unit, or '\n",
    "      +np.array2string(rich/xrate, precision=0)+' in euros')"
   ]
  },
  {
   "cell_type": "markdown",
   "metadata": {},
   "source": [
    "What percentile of the world income distribution approximatly matches those values?"
   ]
  },
  {
   "cell_type": "code",
   "execution_count": 16,
   "metadata": {},
   "outputs": [
    {
     "data": {
      "text/html": [
       "<div>\n",
       "<style scoped>\n",
       "    .dataframe tbody tr th:only-of-type {\n",
       "        vertical-align: middle;\n",
       "    }\n",
       "\n",
       "    .dataframe tbody tr th {\n",
       "        vertical-align: top;\n",
       "    }\n",
       "\n",
       "    .dataframe thead th {\n",
       "        text-align: right;\n",
       "    }\n",
       "</style>\n",
       "<table border=\"1\" class=\"dataframe\">\n",
       "  <thead>\n",
       "    <tr style=\"text-align: right;\">\n",
       "      <th></th>\n",
       "      <th>percentile</th>\n",
       "      <th>value</th>\n",
       "    </tr>\n",
       "  </thead>\n",
       "  <tbody>\n",
       "    <tr>\n",
       "      <td>16539</td>\n",
       "      <td>p0p1</td>\n",
       "      <td>0.0</td>\n",
       "    </tr>\n",
       "    <tr>\n",
       "      <td>39657</td>\n",
       "      <td>p1p2</td>\n",
       "      <td>0.0</td>\n",
       "    </tr>\n",
       "    <tr>\n",
       "      <td>9239</td>\n",
       "      <td>p2p3</td>\n",
       "      <td>0.0</td>\n",
       "    </tr>\n",
       "    <tr>\n",
       "      <td>33339</td>\n",
       "      <td>p3p4</td>\n",
       "      <td>0.0</td>\n",
       "    </tr>\n",
       "    <tr>\n",
       "      <td>11099</td>\n",
       "      <td>p4p5</td>\n",
       "      <td>3.8</td>\n",
       "    </tr>\n",
       "    <tr>\n",
       "      <td>15219</td>\n",
       "      <td>p5p6</td>\n",
       "      <td>66.0</td>\n",
       "    </tr>\n",
       "    <tr>\n",
       "      <td>20049</td>\n",
       "      <td>p6p7</td>\n",
       "      <td>204.8</td>\n",
       "    </tr>\n",
       "    <tr>\n",
       "      <td>21029</td>\n",
       "      <td>p7p8</td>\n",
       "      <td>346.1</td>\n",
       "    </tr>\n",
       "    <tr>\n",
       "      <td>23989</td>\n",
       "      <td>p8p9</td>\n",
       "      <td>485.8</td>\n",
       "    </tr>\n",
       "    <tr>\n",
       "      <td>15139</td>\n",
       "      <td>p9p10</td>\n",
       "      <td>633.7</td>\n",
       "    </tr>\n",
       "    <tr>\n",
       "      <td>459</td>\n",
       "      <td>p10p11</td>\n",
       "      <td>779.0</td>\n",
       "    </tr>\n",
       "    <tr>\n",
       "      <td>20949</td>\n",
       "      <td>p11p12</td>\n",
       "      <td>933.8</td>\n",
       "    </tr>\n",
       "    <tr>\n",
       "      <td>28629</td>\n",
       "      <td>p12p13</td>\n",
       "      <td>1083.1</td>\n",
       "    </tr>\n",
       "    <tr>\n",
       "      <td>5459</td>\n",
       "      <td>p13p14</td>\n",
       "      <td>1235.1</td>\n",
       "    </tr>\n",
       "    <tr>\n",
       "      <td>36597</td>\n",
       "      <td>p14p15</td>\n",
       "      <td>1388.3</td>\n",
       "    </tr>\n",
       "    <tr>\n",
       "      <td>18869</td>\n",
       "      <td>p15p16</td>\n",
       "      <td>1540.0</td>\n",
       "    </tr>\n",
       "    <tr>\n",
       "      <td>4449</td>\n",
       "      <td>p16p17</td>\n",
       "      <td>1710.9</td>\n",
       "    </tr>\n",
       "    <tr>\n",
       "      <td>25999</td>\n",
       "      <td>p17p18</td>\n",
       "      <td>1868.2</td>\n",
       "    </tr>\n",
       "    <tr>\n",
       "      <td>42217</td>\n",
       "      <td>p18p19</td>\n",
       "      <td>1999.7</td>\n",
       "    </tr>\n",
       "    <tr>\n",
       "      <td>24669</td>\n",
       "      <td>p19p20</td>\n",
       "      <td>2110.4</td>\n",
       "    </tr>\n",
       "    <tr>\n",
       "      <td>14369</td>\n",
       "      <td>p20p21</td>\n",
       "      <td>2217.7</td>\n",
       "    </tr>\n",
       "    <tr>\n",
       "      <td>33029</td>\n",
       "      <td>p21p22</td>\n",
       "      <td>2328.5</td>\n",
       "    </tr>\n",
       "    <tr>\n",
       "      <td>27249</td>\n",
       "      <td>p22p23</td>\n",
       "      <td>2435.2</td>\n",
       "    </tr>\n",
       "    <tr>\n",
       "      <td>41557</td>\n",
       "      <td>p23p24</td>\n",
       "      <td>2544.5</td>\n",
       "    </tr>\n",
       "    <tr>\n",
       "      <td>15759</td>\n",
       "      <td>p24p25</td>\n",
       "      <td>2655.4</td>\n",
       "    </tr>\n",
       "    <tr>\n",
       "      <td>6569</td>\n",
       "      <td>p25p26</td>\n",
       "      <td>2772.3</td>\n",
       "    </tr>\n",
       "    <tr>\n",
       "      <td>17109</td>\n",
       "      <td>p26p27</td>\n",
       "      <td>2877.9</td>\n",
       "    </tr>\n",
       "    <tr>\n",
       "      <td>5069</td>\n",
       "      <td>p27p28</td>\n",
       "      <td>2996.8</td>\n",
       "    </tr>\n",
       "    <tr>\n",
       "      <td>11609</td>\n",
       "      <td>p28p29</td>\n",
       "      <td>3125.4</td>\n",
       "    </tr>\n",
       "    <tr>\n",
       "      <td>14489</td>\n",
       "      <td>p29p30</td>\n",
       "      <td>3243.8</td>\n",
       "    </tr>\n",
       "    <tr>\n",
       "      <td>39307</td>\n",
       "      <td>p30p31</td>\n",
       "      <td>3364.1</td>\n",
       "    </tr>\n",
       "    <tr>\n",
       "      <td>5109</td>\n",
       "      <td>p31p32</td>\n",
       "      <td>3497.7</td>\n",
       "    </tr>\n",
       "    <tr>\n",
       "      <td>499</td>\n",
       "      <td>p32p33</td>\n",
       "      <td>3627.3</td>\n",
       "    </tr>\n",
       "    <tr>\n",
       "      <td>39737</td>\n",
       "      <td>p33p34</td>\n",
       "      <td>3750.8</td>\n",
       "    </tr>\n",
       "    <tr>\n",
       "      <td>26469</td>\n",
       "      <td>p34p35</td>\n",
       "      <td>3893.5</td>\n",
       "    </tr>\n",
       "    <tr>\n",
       "      <td>27559</td>\n",
       "      <td>p35p36</td>\n",
       "      <td>4043.3</td>\n",
       "    </tr>\n",
       "    <tr>\n",
       "      <td>41637</td>\n",
       "      <td>p36p37</td>\n",
       "      <td>4193.8</td>\n",
       "    </tr>\n",
       "    <tr>\n",
       "      <td>18069</td>\n",
       "      <td>p37p38</td>\n",
       "      <td>4340.5</td>\n",
       "    </tr>\n",
       "    <tr>\n",
       "      <td>38367</td>\n",
       "      <td>p38p39</td>\n",
       "      <td>4494.7</td>\n",
       "    </tr>\n",
       "    <tr>\n",
       "      <td>10209</td>\n",
       "      <td>p39p40</td>\n",
       "      <td>4665.6</td>\n",
       "    </tr>\n",
       "    <tr>\n",
       "      <td>39027</td>\n",
       "      <td>p40p41</td>\n",
       "      <td>4839.9</td>\n",
       "    </tr>\n",
       "    <tr>\n",
       "      <td>17699</td>\n",
       "      <td>p41p42</td>\n",
       "      <td>5018.9</td>\n",
       "    </tr>\n",
       "    <tr>\n",
       "      <td>2649</td>\n",
       "      <td>p42p43</td>\n",
       "      <td>5198.3</td>\n",
       "    </tr>\n",
       "    <tr>\n",
       "      <td>17149</td>\n",
       "      <td>p43p44</td>\n",
       "      <td>5377.4</td>\n",
       "    </tr>\n",
       "    <tr>\n",
       "      <td>26269</td>\n",
       "      <td>p44p45</td>\n",
       "      <td>5566.4</td>\n",
       "    </tr>\n",
       "    <tr>\n",
       "      <td>33379</td>\n",
       "      <td>p45p46</td>\n",
       "      <td>5752.2</td>\n",
       "    </tr>\n",
       "    <tr>\n",
       "      <td>40127</td>\n",
       "      <td>p46p47</td>\n",
       "      <td>5950.7</td>\n",
       "    </tr>\n",
       "    <tr>\n",
       "      <td>909</td>\n",
       "      <td>p47p48</td>\n",
       "      <td>6163.9</td>\n",
       "    </tr>\n",
       "    <tr>\n",
       "      <td>27719</td>\n",
       "      <td>p48p49</td>\n",
       "      <td>6376.8</td>\n",
       "    </tr>\n",
       "    <tr>\n",
       "      <td>29109</td>\n",
       "      <td>p49p50</td>\n",
       "      <td>6606.6</td>\n",
       "    </tr>\n",
       "    <tr>\n",
       "      <td>20989</td>\n",
       "      <td>p50p51</td>\n",
       "      <td>6843.5</td>\n",
       "    </tr>\n",
       "    <tr>\n",
       "      <td>18109</td>\n",
       "      <td>p51p52</td>\n",
       "      <td>7075.2</td>\n",
       "    </tr>\n",
       "    <tr>\n",
       "      <td>31179</td>\n",
       "      <td>p52p53</td>\n",
       "      <td>7322.6</td>\n",
       "    </tr>\n",
       "    <tr>\n",
       "      <td>2689</td>\n",
       "      <td>p53p54</td>\n",
       "      <td>7583.1</td>\n",
       "    </tr>\n",
       "    <tr>\n",
       "      <td>1109</td>\n",
       "      <td>p54p55</td>\n",
       "      <td>7852.2</td>\n",
       "    </tr>\n",
       "    <tr>\n",
       "      <td>16989</td>\n",
       "      <td>p55p56</td>\n",
       "      <td>8116.3</td>\n",
       "    </tr>\n",
       "    <tr>\n",
       "      <td>29879</td>\n",
       "      <td>p56p57</td>\n",
       "      <td>8369.1</td>\n",
       "    </tr>\n",
       "    <tr>\n",
       "      <td>42977</td>\n",
       "      <td>p57p58</td>\n",
       "      <td>8643.3</td>\n",
       "    </tr>\n",
       "    <tr>\n",
       "      <td>5379</td>\n",
       "      <td>p58p59</td>\n",
       "      <td>8950.8</td>\n",
       "    </tr>\n",
       "    <tr>\n",
       "      <td>8849</td>\n",
       "      <td>p59p60</td>\n",
       "      <td>9282.9</td>\n",
       "    </tr>\n",
       "    <tr>\n",
       "      <td>37627</td>\n",
       "      <td>p60p61</td>\n",
       "      <td>9631.8</td>\n",
       "    </tr>\n",
       "    <tr>\n",
       "      <td>30909</td>\n",
       "      <td>p61p62</td>\n",
       "      <td>10016.8</td>\n",
       "    </tr>\n",
       "    <tr>\n",
       "      <td>18149</td>\n",
       "      <td>p62p63</td>\n",
       "      <td>10421.5</td>\n",
       "    </tr>\n",
       "    <tr>\n",
       "      <td>27599</td>\n",
       "      <td>p63p64</td>\n",
       "      <td>10789.8</td>\n",
       "    </tr>\n",
       "    <tr>\n",
       "      <td>6609</td>\n",
       "      <td>p64p65</td>\n",
       "      <td>11170.6</td>\n",
       "    </tr>\n",
       "    <tr>\n",
       "      <td>40897</td>\n",
       "      <td>p65p66</td>\n",
       "      <td>11605.4</td>\n",
       "    </tr>\n",
       "    <tr>\n",
       "      <td>11919</td>\n",
       "      <td>p66p67</td>\n",
       "      <td>12069.3</td>\n",
       "    </tr>\n",
       "    <tr>\n",
       "      <td>42537</td>\n",
       "      <td>p67p68</td>\n",
       "      <td>12581.0</td>\n",
       "    </tr>\n",
       "    <tr>\n",
       "      <td>5699</td>\n",
       "      <td>p68p69</td>\n",
       "      <td>13085.7</td>\n",
       "    </tr>\n",
       "    <tr>\n",
       "      <td>38567</td>\n",
       "      <td>p69p70</td>\n",
       "      <td>13573.9</td>\n",
       "    </tr>\n",
       "    <tr>\n",
       "      <td>16339</td>\n",
       "      <td>p70p71</td>\n",
       "      <td>14126.2</td>\n",
       "    </tr>\n",
       "    <tr>\n",
       "      <td>31889</td>\n",
       "      <td>p71p72</td>\n",
       "      <td>14721.6</td>\n",
       "    </tr>\n",
       "    <tr>\n",
       "      <td>5419</td>\n",
       "      <td>p72p73</td>\n",
       "      <td>15321.4</td>\n",
       "    </tr>\n",
       "    <tr>\n",
       "      <td>9459</td>\n",
       "      <td>p73p74</td>\n",
       "      <td>15952.8</td>\n",
       "    </tr>\n",
       "    <tr>\n",
       "      <td>43557</td>\n",
       "      <td>p74p75</td>\n",
       "      <td>16600.0</td>\n",
       "    </tr>\n",
       "    <tr>\n",
       "      <td>5739</td>\n",
       "      <td>p75p76</td>\n",
       "      <td>17271.7</td>\n",
       "    </tr>\n",
       "    <tr>\n",
       "      <td>20169</td>\n",
       "      <td>p76p77</td>\n",
       "      <td>18017.1</td>\n",
       "    </tr>\n",
       "    <tr>\n",
       "      <td>949</td>\n",
       "      <td>p77p78</td>\n",
       "      <td>18833.9</td>\n",
       "    </tr>\n",
       "    <tr>\n",
       "      <td>5189</td>\n",
       "      <td>p78p79</td>\n",
       "      <td>19755.4</td>\n",
       "    </tr>\n",
       "    <tr>\n",
       "      <td>28469</td>\n",
       "      <td>p79p80</td>\n",
       "      <td>20639.3</td>\n",
       "    </tr>\n",
       "    <tr>\n",
       "      <td>6209</td>\n",
       "      <td>p80p81</td>\n",
       "      <td>21512.8</td>\n",
       "    </tr>\n",
       "    <tr>\n",
       "      <td>14529</td>\n",
       "      <td>p81p82</td>\n",
       "      <td>22557.8</td>\n",
       "    </tr>\n",
       "    <tr>\n",
       "      <td>33139</td>\n",
       "      <td>p82p83</td>\n",
       "      <td>23708.1</td>\n",
       "    </tr>\n",
       "    <tr>\n",
       "      <td>22849</td>\n",
       "      <td>p83p84</td>\n",
       "      <td>24982.1</td>\n",
       "    </tr>\n",
       "    <tr>\n",
       "      <td>17539</td>\n",
       "      <td>p84p85</td>\n",
       "      <td>26253.2</td>\n",
       "    </tr>\n",
       "    <tr>\n",
       "      <td>24829</td>\n",
       "      <td>p85p86</td>\n",
       "      <td>27614.1</td>\n",
       "    </tr>\n",
       "    <tr>\n",
       "      <td>20209</td>\n",
       "      <td>p86p87</td>\n",
       "      <td>29139.6</td>\n",
       "    </tr>\n",
       "    <tr>\n",
       "      <td>7779</td>\n",
       "      <td>p87p88</td>\n",
       "      <td>30729.4</td>\n",
       "    </tr>\n",
       "    <tr>\n",
       "      <td>28909</td>\n",
       "      <td>p88p89</td>\n",
       "      <td>32529.8</td>\n",
       "    </tr>\n",
       "    <tr>\n",
       "      <td>36817</td>\n",
       "      <td>p89p90</td>\n",
       "      <td>34496.3</td>\n",
       "    </tr>\n",
       "    <tr>\n",
       "      <td>27289</td>\n",
       "      <td>p90p91</td>\n",
       "      <td>36800.1</td>\n",
       "    </tr>\n",
       "    <tr>\n",
       "      <td>32839</td>\n",
       "      <td>p91p92</td>\n",
       "      <td>39518.1</td>\n",
       "    </tr>\n",
       "    <tr>\n",
       "      <td>13219</td>\n",
       "      <td>p92p93</td>\n",
       "      <td>42537.8</td>\n",
       "    </tr>\n",
       "    <tr>\n",
       "      <td>9579</td>\n",
       "      <td>p93p94</td>\n",
       "      <td>46116.9</td>\n",
       "    </tr>\n",
       "    <tr>\n",
       "      <td>12779</td>\n",
       "      <td>p94p95</td>\n",
       "      <td>50682.5</td>\n",
       "    </tr>\n",
       "    <tr>\n",
       "      <td>22469</td>\n",
       "      <td>p95p96</td>\n",
       "      <td>56542.3</td>\n",
       "    </tr>\n",
       "    <tr>\n",
       "      <td>20749</td>\n",
       "      <td>p96p97</td>\n",
       "      <td>64880.5</td>\n",
       "    </tr>\n",
       "    <tr>\n",
       "      <td>18559</td>\n",
       "      <td>p97p98</td>\n",
       "      <td>76329.6</td>\n",
       "    </tr>\n",
       "    <tr>\n",
       "      <td>34089</td>\n",
       "      <td>p98p99</td>\n",
       "      <td>95432.8</td>\n",
       "    </tr>\n",
       "    <tr>\n",
       "      <td>14839</td>\n",
       "      <td>p99p100</td>\n",
       "      <td>122130.5</td>\n",
       "    </tr>\n",
       "  </tbody>\n",
       "</table>\n",
       "</div>"
      ],
      "text/plain": [
       "      percentile     value\n",
       "16539       p0p1       0.0\n",
       "39657       p1p2       0.0\n",
       "9239        p2p3       0.0\n",
       "33339       p3p4       0.0\n",
       "11099       p4p5       3.8\n",
       "15219       p5p6      66.0\n",
       "20049       p6p7     204.8\n",
       "21029       p7p8     346.1\n",
       "23989       p8p9     485.8\n",
       "15139      p9p10     633.7\n",
       "459       p10p11     779.0\n",
       "20949     p11p12     933.8\n",
       "28629     p12p13    1083.1\n",
       "5459      p13p14    1235.1\n",
       "36597     p14p15    1388.3\n",
       "18869     p15p16    1540.0\n",
       "4449      p16p17    1710.9\n",
       "25999     p17p18    1868.2\n",
       "42217     p18p19    1999.7\n",
       "24669     p19p20    2110.4\n",
       "14369     p20p21    2217.7\n",
       "33029     p21p22    2328.5\n",
       "27249     p22p23    2435.2\n",
       "41557     p23p24    2544.5\n",
       "15759     p24p25    2655.4\n",
       "6569      p25p26    2772.3\n",
       "17109     p26p27    2877.9\n",
       "5069      p27p28    2996.8\n",
       "11609     p28p29    3125.4\n",
       "14489     p29p30    3243.8\n",
       "39307     p30p31    3364.1\n",
       "5109      p31p32    3497.7\n",
       "499       p32p33    3627.3\n",
       "39737     p33p34    3750.8\n",
       "26469     p34p35    3893.5\n",
       "27559     p35p36    4043.3\n",
       "41637     p36p37    4193.8\n",
       "18069     p37p38    4340.5\n",
       "38367     p38p39    4494.7\n",
       "10209     p39p40    4665.6\n",
       "39027     p40p41    4839.9\n",
       "17699     p41p42    5018.9\n",
       "2649      p42p43    5198.3\n",
       "17149     p43p44    5377.4\n",
       "26269     p44p45    5566.4\n",
       "33379     p45p46    5752.2\n",
       "40127     p46p47    5950.7\n",
       "909       p47p48    6163.9\n",
       "27719     p48p49    6376.8\n",
       "29109     p49p50    6606.6\n",
       "20989     p50p51    6843.5\n",
       "18109     p51p52    7075.2\n",
       "31179     p52p53    7322.6\n",
       "2689      p53p54    7583.1\n",
       "1109      p54p55    7852.2\n",
       "16989     p55p56    8116.3\n",
       "29879     p56p57    8369.1\n",
       "42977     p57p58    8643.3\n",
       "5379      p58p59    8950.8\n",
       "8849      p59p60    9282.9\n",
       "37627     p60p61    9631.8\n",
       "30909     p61p62   10016.8\n",
       "18149     p62p63   10421.5\n",
       "27599     p63p64   10789.8\n",
       "6609      p64p65   11170.6\n",
       "40897     p65p66   11605.4\n",
       "11919     p66p67   12069.3\n",
       "42537     p67p68   12581.0\n",
       "5699      p68p69   13085.7\n",
       "38567     p69p70   13573.9\n",
       "16339     p70p71   14126.2\n",
       "31889     p71p72   14721.6\n",
       "5419      p72p73   15321.4\n",
       "9459      p73p74   15952.8\n",
       "43557     p74p75   16600.0\n",
       "5739      p75p76   17271.7\n",
       "20169     p76p77   18017.1\n",
       "949       p77p78   18833.9\n",
       "5189      p78p79   19755.4\n",
       "28469     p79p80   20639.3\n",
       "6209      p80p81   21512.8\n",
       "14529     p81p82   22557.8\n",
       "33139     p82p83   23708.1\n",
       "22849     p83p84   24982.1\n",
       "17539     p84p85   26253.2\n",
       "24829     p85p86   27614.1\n",
       "20209     p86p87   29139.6\n",
       "7779      p87p88   30729.4\n",
       "28909     p88p89   32529.8\n",
       "36817     p89p90   34496.3\n",
       "27289     p90p91   36800.1\n",
       "32839     p91p92   39518.1\n",
       "13219     p92p93   42537.8\n",
       "9579      p93p94   46116.9\n",
       "12779     p94p95   50682.5\n",
       "22469     p95p96   56542.3\n",
       "20749     p96p97   64880.5\n",
       "18559     p97p98   76329.6\n",
       "34089     p98p99   95432.8\n",
       "14839    p99p100  122130.5"
      ]
     },
     "execution_count": 16,
     "metadata": {},
     "output_type": "execute_result"
    }
   ],
   "source": [
    "#Display world income distribution to find equivalence\n",
    "world = pd.read_csv('WID_data_WO.csv', delimiter=';')\n",
    "world = world[(world['variable'] == 'tptinc992j') & (world['year'] == lastyear)]\n",
    "\n",
    "percentiles = []\n",
    "for i in range(100):\n",
    "    percentiles.append('p'+str(i)+'p'+str(i+1))\n",
    "\n",
    "pd.set_option('display.max_rows', None)\n",
    "showme = world[world['percentile'].isin(percentiles)]\n",
    "\n",
    "#Note that this is not really sorted as the percentiles rather by values\n",
    "showme[['percentile','value']].sort_values(['value', 'percentile'])"
   ]
  }
 ],
 "metadata": {
  "colab": {
   "collapsed_sections": [],
   "name": "Inequality Assignment Notebook.ipynb",
   "provenance": [],
   "toc_visible": true
  },
  "kernelspec": {
   "display_name": "Python 3",
   "language": "python",
   "name": "python3"
  },
  "language_info": {
   "codemirror_mode": {
    "name": "ipython",
    "version": 3
   },
   "file_extension": ".py",
   "mimetype": "text/x-python",
   "name": "python",
   "nbconvert_exporter": "python",
   "pygments_lexer": "ipython3",
   "version": "3.7.4"
  }
 },
 "nbformat": 4,
 "nbformat_minor": 1
}
